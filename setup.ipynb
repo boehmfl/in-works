{
 "cells": [
  {
   "cell_type": "code",
   "execution_count": 2,
   "id": "a2904e9b",
   "metadata": {
    "collapsed": true,
    "jupyter": {
     "outputs_hidden": true
    }
   },
   "outputs": [
    {
     "name": "stdout",
     "output_type": "stream",
     "text": [
      "Defaulting to user installation because normal site-packages is not writeable\n",
      "Requirement already satisfied: requests in /opt/conda/envs/py3/lib/python3.7/site-packages (2.26.0)\n",
      "Requirement already satisfied: idna<4,>=2.5 in /opt/conda/envs/py3/lib/python3.7/site-packages (from requests) (2.8)\n",
      "Requirement already satisfied: urllib3<1.27,>=1.21.1 in /home/fbohm/.local/lib/python3.7/site-packages (from requests) (1.26.9)\n",
      "Requirement already satisfied: charset-normalizer~=2.0.0 in /opt/conda/envs/py3/lib/python3.7/site-packages (from requests) (2.0.9)\n",
      "Requirement already satisfied: certifi>=2017.4.17 in /opt/conda/envs/py3/lib/python3.7/site-packages (from requests) (2021.10.8)\n",
      "\n",
      "\u001b[1m[\u001b[0m\u001b[34;49mnotice\u001b[0m\u001b[1;39;49m]\u001b[0m\u001b[39;49m A new release of pip available: \u001b[0m\u001b[31;49m22.1.2\u001b[0m\u001b[39;49m -> \u001b[0m\u001b[32;49m22.2\u001b[0m\n",
      "\u001b[1m[\u001b[0m\u001b[34;49mnotice\u001b[0m\u001b[1;39;49m]\u001b[0m\u001b[39;49m To update, run: \u001b[0m\u001b[32;49m/opt/conda/envs/py3/bin/python -m pip install --upgrade pip\u001b[0m\n",
      "Note: you may need to restart the kernel to use updated packages.\n"
     ]
    }
   ],
   "source": [
    "pip install requests"
   ]
  },
  {
   "cell_type": "code",
   "execution_count": 3,
   "id": "9253eb6c",
   "metadata": {
    "collapsed": true,
    "jupyter": {
     "outputs_hidden": true
    }
   },
   "outputs": [
    {
     "name": "stdout",
     "output_type": "stream",
     "text": [
      "Defaulting to user installation because normal site-packages is not writeable\n",
      "Requirement already satisfied: beautifulsoup4 in /home/fbohm/.local/lib/python3.7/site-packages (4.11.1)\n",
      "Requirement already satisfied: soupsieve>1.2 in /home/fbohm/.local/lib/python3.7/site-packages (from beautifulsoup4) (2.3.2.post1)\n",
      "\n",
      "\u001b[1m[\u001b[0m\u001b[34;49mnotice\u001b[0m\u001b[1;39;49m]\u001b[0m\u001b[39;49m A new release of pip available: \u001b[0m\u001b[31;49m22.1.2\u001b[0m\u001b[39;49m -> \u001b[0m\u001b[32;49m22.2\u001b[0m\n",
      "\u001b[1m[\u001b[0m\u001b[34;49mnotice\u001b[0m\u001b[1;39;49m]\u001b[0m\u001b[39;49m To update, run: \u001b[0m\u001b[32;49m/opt/conda/envs/py3/bin/python -m pip install --upgrade pip\u001b[0m\n",
      "Note: you may need to restart the kernel to use updated packages.\n"
     ]
    }
   ],
   "source": [
    "pip install beautifulsoup4"
   ]
  },
  {
   "cell_type": "code",
   "execution_count": 4,
   "id": "5ad64042",
   "metadata": {
    "collapsed": true,
    "jupyter": {
     "outputs_hidden": true
    }
   },
   "outputs": [
    {
     "name": "stdout",
     "output_type": "stream",
     "text": [
      "Defaulting to user installation because normal site-packages is not writeable\n",
      "Collecting datetime\n",
      "  Downloading DateTime-4.5-py2.py3-none-any.whl (52 kB)\n",
      "\u001b[2K     \u001b[90m━━━━━━━━━━━━━━━━━━━━━━━━━━━━━━━━━━━━━━━\u001b[0m \u001b[32m52.0/52.0 kB\u001b[0m \u001b[31m716.7 kB/s\u001b[0m eta \u001b[36m0:00:00\u001b[0m0:01\u001b[0m\n",
      "\u001b[?25hRequirement already satisfied: pytz in /opt/conda/envs/py3/lib/python3.7/site-packages (from datetime) (2019.3)\n",
      "Requirement already satisfied: zope.interface in /home/fbohm/.local/lib/python3.7/site-packages (from datetime) (5.4.0)\n",
      "Requirement already satisfied: setuptools in /home/fbohm/.local/lib/python3.7/site-packages (from zope.interface->datetime) (63.1.0)\n",
      "Installing collected packages: datetime\n",
      "Successfully installed datetime-4.5\n",
      "\n",
      "\u001b[1m[\u001b[0m\u001b[34;49mnotice\u001b[0m\u001b[1;39;49m]\u001b[0m\u001b[39;49m A new release of pip available: \u001b[0m\u001b[31;49m22.1.2\u001b[0m\u001b[39;49m -> \u001b[0m\u001b[32;49m22.2\u001b[0m\n",
      "\u001b[1m[\u001b[0m\u001b[34;49mnotice\u001b[0m\u001b[1;39;49m]\u001b[0m\u001b[39;49m To update, run: \u001b[0m\u001b[32;49m/opt/conda/envs/py3/bin/python -m pip install --upgrade pip\u001b[0m\n",
      "Note: you may need to restart the kernel to use updated packages.\n"
     ]
    }
   ],
   "source": [
    "pip install datetime"
   ]
  },
  {
   "cell_type": "code",
   "execution_count": 6,
   "id": "d16fb942",
   "metadata": {
    "collapsed": true,
    "jupyter": {
     "outputs_hidden": true
    }
   },
   "outputs": [
    {
     "name": "stdout",
     "output_type": "stream",
     "text": [
      "Defaulting to user installation because normal site-packages is not writeable\n",
      "Requirement already satisfied: emoji in /home/fbohm/.local/lib/python3.7/site-packages (1.7.0)\n",
      "\n",
      "\u001b[1m[\u001b[0m\u001b[34;49mnotice\u001b[0m\u001b[1;39;49m]\u001b[0m\u001b[39;49m A new release of pip available: \u001b[0m\u001b[31;49m22.1.2\u001b[0m\u001b[39;49m -> \u001b[0m\u001b[32;49m22.2\u001b[0m\n",
      "\u001b[1m[\u001b[0m\u001b[34;49mnotice\u001b[0m\u001b[1;39;49m]\u001b[0m\u001b[39;49m To update, run: \u001b[0m\u001b[32;49m/opt/conda/envs/py3/bin/python -m pip install --upgrade pip\u001b[0m\n",
      "Note: you may need to restart the kernel to use updated packages.\n"
     ]
    }
   ],
   "source": [
    "pip install emoji"
   ]
  },
  {
   "cell_type": "code",
   "execution_count": 8,
   "id": "c5b43fed",
   "metadata": {
    "collapsed": true,
    "jupyter": {
     "outputs_hidden": true
    }
   },
   "outputs": [
    {
     "name": "stdout",
     "output_type": "stream",
     "text": [
      "Defaulting to user installation because normal site-packages is not writeable\n",
      "Requirement already satisfied: pytz in /opt/conda/envs/py3/lib/python3.7/site-packages (2019.3)\n",
      "\n",
      "\u001b[1m[\u001b[0m\u001b[34;49mnotice\u001b[0m\u001b[1;39;49m]\u001b[0m\u001b[39;49m A new release of pip available: \u001b[0m\u001b[31;49m22.1.2\u001b[0m\u001b[39;49m -> \u001b[0m\u001b[32;49m22.2\u001b[0m\n",
      "\u001b[1m[\u001b[0m\u001b[34;49mnotice\u001b[0m\u001b[1;39;49m]\u001b[0m\u001b[39;49m To update, run: \u001b[0m\u001b[32;49m/opt/conda/envs/py3/bin/python -m pip install --upgrade pip\u001b[0m\n",
      "Note: you may need to restart the kernel to use updated packages.\n"
     ]
    }
   ],
   "source": [
    "pip install pytz"
   ]
  },
  {
   "cell_type": "code",
   "execution_count": 9,
   "id": "bff5042d",
   "metadata": {
    "collapsed": true,
    "jupyter": {
     "outputs_hidden": true
    }
   },
   "outputs": [
    {
     "name": "stdout",
     "output_type": "stream",
     "text": [
      "Defaulting to user installation because normal site-packages is not writeable\n",
      "Requirement already satisfied: requests_html in /home/fbohm/.local/lib/python3.7/site-packages (0.8.0)\n",
      "Requirement already satisfied: pyquery in /home/fbohm/.local/lib/python3.7/site-packages (from requests_html) (1.4.3)\n",
      "Requirement already satisfied: parse in /home/fbohm/.local/lib/python3.7/site-packages (from requests_html) (1.19.0)\n",
      "Requirement already satisfied: bs4 in /home/fbohm/.local/lib/python3.7/site-packages (from requests_html) (0.0.1)\n",
      "Requirement already satisfied: pyppeteer in /home/fbohm/.local/lib/python3.7/site-packages (from requests_html) (1.0.2)\n",
      "Requirement already satisfied: requests in /opt/conda/envs/py3/lib/python3.7/site-packages (from requests_html) (2.26.0)\n",
      "Requirement already satisfied: w3lib in /home/fbohm/.local/lib/python3.7/site-packages (from requests_html) (1.22.0)\n",
      "Requirement already satisfied: fake-useragent in /home/fbohm/.local/lib/python3.7/site-packages (from requests_html) (0.1.11)\n",
      "Requirement already satisfied: beautifulsoup4 in /home/fbohm/.local/lib/python3.7/site-packages (from bs4->requests_html) (4.11.1)\n",
      "Requirement already satisfied: pyee<9.0.0,>=8.1.0 in /home/fbohm/.local/lib/python3.7/site-packages (from pyppeteer->requests_html) (8.2.2)\n",
      "Requirement already satisfied: appdirs<2.0.0,>=1.4.3 in /home/fbohm/.local/lib/python3.7/site-packages (from pyppeteer->requests_html) (1.4.4)\n",
      "Requirement already satisfied: urllib3<2.0.0,>=1.25.8 in /home/fbohm/.local/lib/python3.7/site-packages (from pyppeteer->requests_html) (1.26.9)\n",
      "Requirement already satisfied: certifi>=2021 in /opt/conda/envs/py3/lib/python3.7/site-packages (from pyppeteer->requests_html) (2021.10.8)\n",
      "Requirement already satisfied: websockets<11.0,>=10.0 in /home/fbohm/.local/lib/python3.7/site-packages (from pyppeteer->requests_html) (10.3)\n",
      "Requirement already satisfied: tqdm<5.0.0,>=4.42.1 in /home/fbohm/.local/lib/python3.7/site-packages (from pyppeteer->requests_html) (4.64.0)\n",
      "Requirement already satisfied: importlib-metadata>=1.4 in /opt/conda/envs/py3/lib/python3.7/site-packages (from pyppeteer->requests_html) (4.10.0)\n",
      "Requirement already satisfied: lxml>=2.1 in /home/fbohm/.local/lib/python3.7/site-packages (from pyquery->requests_html) (4.9.0)\n",
      "Requirement already satisfied: cssselect>0.7.9 in /home/fbohm/.local/lib/python3.7/site-packages (from pyquery->requests_html) (1.1.0)\n",
      "Requirement already satisfied: idna<4,>=2.5 in /opt/conda/envs/py3/lib/python3.7/site-packages (from requests->requests_html) (2.8)\n",
      "Requirement already satisfied: charset-normalizer~=2.0.0 in /opt/conda/envs/py3/lib/python3.7/site-packages (from requests->requests_html) (2.0.9)\n",
      "Requirement already satisfied: six>=1.4.1 in /opt/conda/envs/py3/lib/python3.7/site-packages (from w3lib->requests_html) (1.13.0)\n",
      "Requirement already satisfied: zipp>=0.5 in /opt/conda/envs/py3/lib/python3.7/site-packages (from importlib-metadata>=1.4->pyppeteer->requests_html) (3.7.0)\n",
      "Requirement already satisfied: typing-extensions>=3.6.4 in /opt/conda/envs/py3/lib/python3.7/site-packages (from importlib-metadata>=1.4->pyppeteer->requests_html) (4.0.1)\n",
      "Requirement already satisfied: soupsieve>1.2 in /home/fbohm/.local/lib/python3.7/site-packages (from beautifulsoup4->bs4->requests_html) (2.3.2.post1)\n",
      "\n",
      "\u001b[1m[\u001b[0m\u001b[34;49mnotice\u001b[0m\u001b[1;39;49m]\u001b[0m\u001b[39;49m A new release of pip available: \u001b[0m\u001b[31;49m22.1.2\u001b[0m\u001b[39;49m -> \u001b[0m\u001b[32;49m22.2\u001b[0m\n",
      "\u001b[1m[\u001b[0m\u001b[34;49mnotice\u001b[0m\u001b[1;39;49m]\u001b[0m\u001b[39;49m To update, run: \u001b[0m\u001b[32;49m/opt/conda/envs/py3/bin/python -m pip install --upgrade pip\u001b[0m\n",
      "Note: you may need to restart the kernel to use updated packages.\n"
     ]
    }
   ],
   "source": [
    "pip install requests_html"
   ]
  },
  {
   "cell_type": "code",
   "execution_count": 19,
   "id": "d1e11a2c",
   "metadata": {
    "collapsed": true,
    "jupyter": {
     "outputs_hidden": true
    }
   },
   "outputs": [
    {
     "name": "stdout",
     "output_type": "stream",
     "text": [
      "Defaulting to user installation because normal site-packages is not writeable\n",
      "Requirement already satisfied: spacy==3.0.0 in /home/fbohm/.local/lib/python3.7/site-packages (3.0.0)\n",
      "Requirement already satisfied: requests<3.0.0,>=2.13.0 in /opt/conda/envs/py3/lib/python3.7/site-packages (from spacy==3.0.0) (2.26.0)\n",
      "Requirement already satisfied: preshed<3.1.0,>=3.0.2 in /home/fbohm/.local/lib/python3.7/site-packages (from spacy==3.0.0) (3.0.6)\n",
      "Requirement already satisfied: numpy>=1.15.0 in /opt/conda/envs/py3/lib/python3.7/site-packages (from spacy==3.0.0) (1.17.4)\n",
      "Requirement already satisfied: murmurhash<1.1.0,>=0.28.0 in /home/fbohm/.local/lib/python3.7/site-packages (from spacy==3.0.0) (1.0.7)\n",
      "Requirement already satisfied: catalogue<2.1.0,>=2.0.1 in /home/fbohm/.local/lib/python3.7/site-packages (from spacy==3.0.0) (2.0.7)\n",
      "Requirement already satisfied: packaging>=20.0 in /home/fbohm/.local/lib/python3.7/site-packages (from spacy==3.0.0) (21.3)\n",
      "Requirement already satisfied: importlib-metadata>=0.20 in /opt/conda/envs/py3/lib/python3.7/site-packages (from spacy==3.0.0) (4.10.0)\n",
      "Requirement already satisfied: thinc<8.1.0,>=8.0.0 in /home/fbohm/.local/lib/python3.7/site-packages (from spacy==3.0.0) (8.0.17)\n",
      "Requirement already satisfied: blis<0.8.0,>=0.4.0 in /home/fbohm/.local/lib/python3.7/site-packages (from spacy==3.0.0) (0.7.8)\n",
      "Requirement already satisfied: pydantic<1.8.0,>=1.7.1 in /home/fbohm/.local/lib/python3.7/site-packages (from spacy==3.0.0) (1.7.4)\n",
      "Requirement already satisfied: jinja2 in /home/fbohm/.local/lib/python3.7/site-packages (from spacy==3.0.0) (3.1.2)\n",
      "Requirement already satisfied: typer<0.4.0,>=0.3.0 in /home/fbohm/.local/lib/python3.7/site-packages (from spacy==3.0.0) (0.3.2)\n",
      "Requirement already satisfied: spacy-legacy<3.1.0,>=3.0.0 in /home/fbohm/.local/lib/python3.7/site-packages (from spacy==3.0.0) (3.0.9)\n",
      "Requirement already satisfied: typing-extensions>=3.7.4 in /opt/conda/envs/py3/lib/python3.7/site-packages (from spacy==3.0.0) (4.0.1)\n",
      "Requirement already satisfied: setuptools in /home/fbohm/.local/lib/python3.7/site-packages (from spacy==3.0.0) (63.1.0)\n",
      "Requirement already satisfied: tqdm<5.0.0,>=4.38.0 in /home/fbohm/.local/lib/python3.7/site-packages (from spacy==3.0.0) (4.64.0)\n",
      "Requirement already satisfied: pathy in /home/fbohm/.local/lib/python3.7/site-packages (from spacy==3.0.0) (0.6.2)\n",
      "Requirement already satisfied: wasabi<1.1.0,>=0.8.1 in /home/fbohm/.local/lib/python3.7/site-packages (from spacy==3.0.0) (0.9.1)\n",
      "Requirement already satisfied: cymem<2.1.0,>=2.0.2 in /home/fbohm/.local/lib/python3.7/site-packages (from spacy==3.0.0) (2.0.6)\n",
      "Requirement already satisfied: srsly<3.0.0,>=2.4.0 in /home/fbohm/.local/lib/python3.7/site-packages (from spacy==3.0.0) (2.4.3)\n",
      "Requirement already satisfied: zipp>=0.5 in /opt/conda/envs/py3/lib/python3.7/site-packages (from catalogue<2.1.0,>=2.0.1->spacy==3.0.0) (3.7.0)\n",
      "Requirement already satisfied: pyparsing!=3.0.5,>=2.0.2 in /opt/conda/envs/py3/lib/python3.7/site-packages (from packaging>=20.0->spacy==3.0.0) (2.4.6)\n",
      "Requirement already satisfied: charset-normalizer~=2.0.0 in /opt/conda/envs/py3/lib/python3.7/site-packages (from requests<3.0.0,>=2.13.0->spacy==3.0.0) (2.0.9)\n",
      "Requirement already satisfied: idna<4,>=2.5 in /opt/conda/envs/py3/lib/python3.7/site-packages (from requests<3.0.0,>=2.13.0->spacy==3.0.0) (2.8)\n",
      "Requirement already satisfied: certifi>=2017.4.17 in /opt/conda/envs/py3/lib/python3.7/site-packages (from requests<3.0.0,>=2.13.0->spacy==3.0.0) (2021.10.8)\n",
      "Requirement already satisfied: urllib3<1.27,>=1.21.1 in /home/fbohm/.local/lib/python3.7/site-packages (from requests<3.0.0,>=2.13.0->spacy==3.0.0) (1.26.9)\n",
      "Requirement already satisfied: click<7.2.0,>=7.1.1 in /home/fbohm/.local/lib/python3.7/site-packages (from typer<0.4.0,>=0.3.0->spacy==3.0.0) (7.1.2)\n",
      "Requirement already satisfied: MarkupSafe>=2.0 in /home/fbohm/.local/lib/python3.7/site-packages (from jinja2->spacy==3.0.0) (2.1.1)\n",
      "Requirement already satisfied: smart-open<6.0.0,>=5.2.1 in /home/fbohm/.local/lib/python3.7/site-packages (from pathy->spacy==3.0.0) (5.2.1)\n",
      "\n",
      "\u001b[1m[\u001b[0m\u001b[34;49mnotice\u001b[0m\u001b[1;39;49m]\u001b[0m\u001b[39;49m A new release of pip available: \u001b[0m\u001b[31;49m22.1.2\u001b[0m\u001b[39;49m -> \u001b[0m\u001b[32;49m22.2\u001b[0m\n",
      "\u001b[1m[\u001b[0m\u001b[34;49mnotice\u001b[0m\u001b[1;39;49m]\u001b[0m\u001b[39;49m To update, run: \u001b[0m\u001b[32;49m/opt/conda/envs/py3/bin/python -m pip install --upgrade pip\u001b[0m\n",
      "Note: you may need to restart the kernel to use updated packages.\n"
     ]
    }
   ],
   "source": [
    "pip install spacy==3.0.0"
   ]
  },
  {
   "cell_type": "code",
   "execution_count": 22,
   "id": "c4388f51",
   "metadata": {
    "collapsed": true,
    "jupyter": {
     "outputs_hidden": true
    }
   },
   "outputs": [
    {
     "name": "stdout",
     "output_type": "stream",
     "text": [
      "Defaulting to user installation because normal site-packages is not writeable\n",
      "Requirement already satisfied: en_core_web_trf in /home/fbohm/.local/lib/python3.7/site-packages (3.0.0)\n",
      "Requirement already satisfied: spacy<3.1.0,>=3.0.0 in /home/fbohm/.local/lib/python3.7/site-packages (from en_core_web_trf) (3.0.0)\n",
      "Requirement already satisfied: spacy-transformers<1.1.0,>=1.0.0rc4 in /home/fbohm/.local/lib/python3.7/site-packages (from en_core_web_trf) (1.0.4)\n",
      "Requirement already satisfied: preshed<3.1.0,>=3.0.2 in /home/fbohm/.local/lib/python3.7/site-packages (from spacy<3.1.0,>=3.0.0->en_core_web_trf) (3.0.6)\n",
      "Requirement already satisfied: jinja2 in /home/fbohm/.local/lib/python3.7/site-packages (from spacy<3.1.0,>=3.0.0->en_core_web_trf) (3.1.2)\n",
      "Requirement already satisfied: cymem<2.1.0,>=2.0.2 in /home/fbohm/.local/lib/python3.7/site-packages (from spacy<3.1.0,>=3.0.0->en_core_web_trf) (2.0.6)\n",
      "Requirement already satisfied: pathy in /home/fbohm/.local/lib/python3.7/site-packages (from spacy<3.1.0,>=3.0.0->en_core_web_trf) (0.6.2)\n",
      "Requirement already satisfied: importlib-metadata>=0.20 in /opt/conda/envs/py3/lib/python3.7/site-packages (from spacy<3.1.0,>=3.0.0->en_core_web_trf) (4.10.0)\n",
      "Requirement already satisfied: setuptools in /home/fbohm/.local/lib/python3.7/site-packages (from spacy<3.1.0,>=3.0.0->en_core_web_trf) (63.1.0)\n",
      "Requirement already satisfied: numpy>=1.15.0 in /opt/conda/envs/py3/lib/python3.7/site-packages (from spacy<3.1.0,>=3.0.0->en_core_web_trf) (1.17.4)\n",
      "Requirement already satisfied: spacy-legacy<3.1.0,>=3.0.0 in /home/fbohm/.local/lib/python3.7/site-packages (from spacy<3.1.0,>=3.0.0->en_core_web_trf) (3.0.9)\n",
      "Requirement already satisfied: catalogue<2.1.0,>=2.0.1 in /home/fbohm/.local/lib/python3.7/site-packages (from spacy<3.1.0,>=3.0.0->en_core_web_trf) (2.0.7)\n",
      "Requirement already satisfied: tqdm<5.0.0,>=4.38.0 in /home/fbohm/.local/lib/python3.7/site-packages (from spacy<3.1.0,>=3.0.0->en_core_web_trf) (4.64.0)\n",
      "Requirement already satisfied: packaging>=20.0 in /home/fbohm/.local/lib/python3.7/site-packages (from spacy<3.1.0,>=3.0.0->en_core_web_trf) (21.3)\n",
      "Requirement already satisfied: typing-extensions>=3.7.4 in /opt/conda/envs/py3/lib/python3.7/site-packages (from spacy<3.1.0,>=3.0.0->en_core_web_trf) (4.0.1)\n",
      "Requirement already satisfied: thinc<8.1.0,>=8.0.0 in /home/fbohm/.local/lib/python3.7/site-packages (from spacy<3.1.0,>=3.0.0->en_core_web_trf) (8.0.17)\n",
      "Requirement already satisfied: typer<0.4.0,>=0.3.0 in /home/fbohm/.local/lib/python3.7/site-packages (from spacy<3.1.0,>=3.0.0->en_core_web_trf) (0.3.2)\n",
      "Requirement already satisfied: murmurhash<1.1.0,>=0.28.0 in /home/fbohm/.local/lib/python3.7/site-packages (from spacy<3.1.0,>=3.0.0->en_core_web_trf) (1.0.7)\n",
      "Requirement already satisfied: wasabi<1.1.0,>=0.8.1 in /home/fbohm/.local/lib/python3.7/site-packages (from spacy<3.1.0,>=3.0.0->en_core_web_trf) (0.9.1)\n",
      "Requirement already satisfied: blis<0.8.0,>=0.4.0 in /home/fbohm/.local/lib/python3.7/site-packages (from spacy<3.1.0,>=3.0.0->en_core_web_trf) (0.7.8)\n",
      "Requirement already satisfied: requests<3.0.0,>=2.13.0 in /opt/conda/envs/py3/lib/python3.7/site-packages (from spacy<3.1.0,>=3.0.0->en_core_web_trf) (2.26.0)\n",
      "Requirement already satisfied: pydantic<1.8.0,>=1.7.1 in /home/fbohm/.local/lib/python3.7/site-packages (from spacy<3.1.0,>=3.0.0->en_core_web_trf) (1.7.4)\n",
      "Requirement already satisfied: srsly<3.0.0,>=2.4.0 in /home/fbohm/.local/lib/python3.7/site-packages (from spacy<3.1.0,>=3.0.0->en_core_web_trf) (2.4.3)\n",
      "Requirement already satisfied: spacy-alignments<1.0.0,>=0.7.2 in /home/fbohm/.local/lib/python3.7/site-packages (from spacy-transformers<1.1.0,>=1.0.0rc4->en_core_web_trf) (0.8.5)\n",
      "Requirement already satisfied: torch>=1.5.0 in /home/fbohm/.local/lib/python3.7/site-packages (from spacy-transformers<1.1.0,>=1.0.0rc4->en_core_web_trf) (1.12.0)\n",
      "Requirement already satisfied: transformers<4.10.0,>=3.4.0 in /home/fbohm/.local/lib/python3.7/site-packages (from spacy-transformers<1.1.0,>=1.0.0rc4->en_core_web_trf) (4.9.2)\n",
      "Requirement already satisfied: zipp>=0.5 in /opt/conda/envs/py3/lib/python3.7/site-packages (from catalogue<2.1.0,>=2.0.1->spacy<3.1.0,>=3.0.0->en_core_web_trf) (3.7.0)\n",
      "Requirement already satisfied: pyparsing!=3.0.5,>=2.0.2 in /opt/conda/envs/py3/lib/python3.7/site-packages (from packaging>=20.0->spacy<3.1.0,>=3.0.0->en_core_web_trf) (2.4.6)\n",
      "Requirement already satisfied: idna<4,>=2.5 in /opt/conda/envs/py3/lib/python3.7/site-packages (from requests<3.0.0,>=2.13.0->spacy<3.1.0,>=3.0.0->en_core_web_trf) (2.8)\n",
      "Requirement already satisfied: charset-normalizer~=2.0.0 in /opt/conda/envs/py3/lib/python3.7/site-packages (from requests<3.0.0,>=2.13.0->spacy<3.1.0,>=3.0.0->en_core_web_trf) (2.0.9)\n",
      "Requirement already satisfied: urllib3<1.27,>=1.21.1 in /home/fbohm/.local/lib/python3.7/site-packages (from requests<3.0.0,>=2.13.0->spacy<3.1.0,>=3.0.0->en_core_web_trf) (1.26.9)\n",
      "Requirement already satisfied: certifi>=2017.4.17 in /opt/conda/envs/py3/lib/python3.7/site-packages (from requests<3.0.0,>=2.13.0->spacy<3.1.0,>=3.0.0->en_core_web_trf) (2021.10.8)\n",
      "Requirement already satisfied: huggingface-hub==0.0.12 in /home/fbohm/.local/lib/python3.7/site-packages (from transformers<4.10.0,>=3.4.0->spacy-transformers<1.1.0,>=1.0.0rc4->en_core_web_trf) (0.0.12)\n",
      "Requirement already satisfied: sacremoses in /home/fbohm/.local/lib/python3.7/site-packages (from transformers<4.10.0,>=3.4.0->spacy-transformers<1.1.0,>=1.0.0rc4->en_core_web_trf) (0.0.53)\n",
      "Requirement already satisfied: tokenizers<0.11,>=0.10.1 in /home/fbohm/.local/lib/python3.7/site-packages (from transformers<4.10.0,>=3.4.0->spacy-transformers<1.1.0,>=1.0.0rc4->en_core_web_trf) (0.10.3)\n",
      "Requirement already satisfied: filelock in /home/fbohm/.local/lib/python3.7/site-packages (from transformers<4.10.0,>=3.4.0->spacy-transformers<1.1.0,>=1.0.0rc4->en_core_web_trf) (3.6.0)\n",
      "Requirement already satisfied: pyyaml>=5.1 in /home/fbohm/.local/lib/python3.7/site-packages (from transformers<4.10.0,>=3.4.0->spacy-transformers<1.1.0,>=1.0.0rc4->en_core_web_trf) (6.0)\n",
      "Requirement already satisfied: regex!=2019.12.17 in /home/fbohm/.local/lib/python3.7/site-packages (from transformers<4.10.0,>=3.4.0->spacy-transformers<1.1.0,>=1.0.0rc4->en_core_web_trf) (2022.4.24)\n",
      "Requirement already satisfied: click<7.2.0,>=7.1.1 in /home/fbohm/.local/lib/python3.7/site-packages (from typer<0.4.0,>=0.3.0->spacy<3.1.0,>=3.0.0->en_core_web_trf) (7.1.2)\n",
      "Requirement already satisfied: MarkupSafe>=2.0 in /home/fbohm/.local/lib/python3.7/site-packages (from jinja2->spacy<3.1.0,>=3.0.0->en_core_web_trf) (2.1.1)\n",
      "Requirement already satisfied: smart-open<6.0.0,>=5.2.1 in /home/fbohm/.local/lib/python3.7/site-packages (from pathy->spacy<3.1.0,>=3.0.0->en_core_web_trf) (5.2.1)\n",
      "Requirement already satisfied: six in /opt/conda/envs/py3/lib/python3.7/site-packages (from sacremoses->transformers<4.10.0,>=3.4.0->spacy-transformers<1.1.0,>=1.0.0rc4->en_core_web_trf) (1.13.0)\n",
      "Requirement already satisfied: joblib in /home/fbohm/.local/lib/python3.7/site-packages (from sacremoses->transformers<4.10.0,>=3.4.0->spacy-transformers<1.1.0,>=1.0.0rc4->en_core_web_trf) (1.1.0)\n",
      "\n",
      "\u001b[1m[\u001b[0m\u001b[34;49mnotice\u001b[0m\u001b[1;39;49m]\u001b[0m\u001b[39;49m A new release of pip available: \u001b[0m\u001b[31;49m22.1.2\u001b[0m\u001b[39;49m -> \u001b[0m\u001b[32;49m22.2\u001b[0m\n",
      "\u001b[1m[\u001b[0m\u001b[34;49mnotice\u001b[0m\u001b[1;39;49m]\u001b[0m\u001b[39;49m To update, run: \u001b[0m\u001b[32;49m/opt/conda/envs/py3/bin/python -m pip install --upgrade pip\u001b[0m\n",
      "Note: you may need to restart the kernel to use updated packages.\n"
     ]
    }
   ],
   "source": [
    "pip install en_core_web_trf"
   ]
  },
  {
   "cell_type": "code",
   "execution_count": 23,
   "id": "c0f98045",
   "metadata": {
    "collapsed": true,
    "jupyter": {
     "outputs_hidden": true
    }
   },
   "outputs": [
    {
     "name": "stdout",
     "output_type": "stream",
     "text": [
      "Defaulting to user installation because normal site-packages is not writeable\n",
      "Requirement already satisfied: pandas in /opt/conda/envs/py3/lib/python3.7/site-packages (0.25.3)\n",
      "Requirement already satisfied: python-dateutil>=2.6.1 in /opt/conda/envs/py3/lib/python3.7/site-packages (from pandas) (2.8.0)\n",
      "Requirement already satisfied: pytz>=2017.2 in /opt/conda/envs/py3/lib/python3.7/site-packages (from pandas) (2019.3)\n",
      "Requirement already satisfied: numpy>=1.13.3 in /opt/conda/envs/py3/lib/python3.7/site-packages (from pandas) (1.17.4)\n",
      "Requirement already satisfied: six>=1.5 in /opt/conda/envs/py3/lib/python3.7/site-packages (from python-dateutil>=2.6.1->pandas) (1.13.0)\n",
      "\n",
      "\u001b[1m[\u001b[0m\u001b[34;49mnotice\u001b[0m\u001b[1;39;49m]\u001b[0m\u001b[39;49m A new release of pip available: \u001b[0m\u001b[31;49m22.1.2\u001b[0m\u001b[39;49m -> \u001b[0m\u001b[32;49m22.2\u001b[0m\n",
      "\u001b[1m[\u001b[0m\u001b[34;49mnotice\u001b[0m\u001b[1;39;49m]\u001b[0m\u001b[39;49m To update, run: \u001b[0m\u001b[32;49m/opt/conda/envs/py3/bin/python -m pip install --upgrade pip\u001b[0m\n",
      "Note: you may need to restart the kernel to use updated packages.\n"
     ]
    }
   ],
   "source": [
    "pip install pandas"
   ]
  }
 ],
 "metadata": {
  "kernelspec": {
   "display_name": "Python 3.7",
   "language": "python",
   "name": "py3"
  },
  "language_info": {
   "codemirror_mode": {
    "name": "ipython",
    "version": 3
   },
   "file_extension": ".py",
   "mimetype": "text/x-python",
   "name": "python",
   "nbconvert_exporter": "python",
   "pygments_lexer": "ipython3",
   "version": "3.7.0"
  }
 },
 "nbformat": 4,
 "nbformat_minor": 5
}
